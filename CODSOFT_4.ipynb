{
  "nbformat": 4,
  "nbformat_minor": 0,
  "metadata": {
    "colab": {
      "provenance": []
    },
    "kernelspec": {
      "name": "python3",
      "display_name": "Python 3"
    },
    "language_info": {
      "name": "python"
    }
  },
  "cells": [
    {
      "cell_type": "code",
      "execution_count": 2,
      "metadata": {
        "id": "gxMWZb6NqGLh"
      },
      "outputs": [],
      "source": [
        "# Name:Ashish Sahu\n",
        "# CodSoft Machine learning\n",
        "# SPAM SMS DETECTION"
      ]
    },
    {
      "cell_type": "markdown",
      "source": [
        "# Import necessary libraries"
      ],
      "metadata": {
        "id": "qzDRbHDeqQik"
      }
    },
    {
      "cell_type": "code",
      "source": [
        "import pandas as pd\n",
        "import numpy as np\n",
        "import matplotlib.pyplot as plt\n",
        "from sklearn.model_selection import train_test_split\n",
        "from sklearn.feature_extraction.text import TfidfVectorizer\n",
        "from sklearn.naive_bayes import MultinomialNB\n",
        "from sklearn.linear_model import LogisticRegression\n",
        "from sklearn.svm import SVC\n",
        "from sklearn.metrics import accuracy_score, classification_report, confusion_matrix\n",
        "import torch\n",
        "from transformers import BertTokenizer, BertModel"
      ],
      "metadata": {
        "id": "qjV-0vEFqQEO"
      },
      "execution_count": 3,
      "outputs": []
    },
    {
      "cell_type": "markdown",
      "source": [
        "# Load the dataset"
      ],
      "metadata": {
        "id": "nKnKYomVqpVn"
      }
    },
    {
      "source": [
        "data = pd.read_csv('/content/sample_data/spam.csv', encoding='latin-1')"
      ],
      "cell_type": "code",
      "metadata": {
        "id": "12FKfINXrB2m"
      },
      "execution_count": 4,
      "outputs": []
    },
    {
      "cell_type": "markdown",
      "source": [
        "# Explore the dataset"
      ],
      "metadata": {
        "id": "fCKOcLnhrdAU"
      }
    },
    {
      "cell_type": "code",
      "source": [
        "print(\"Dataset shape:\", data.shape)"
      ],
      "metadata": {
        "colab": {
          "base_uri": "https://localhost:8080/"
        },
        "id": "i7Ry6Yf2qzCh",
        "outputId": "8289e3bd-478f-4d66-d5dd-15c17c32c189"
      },
      "execution_count": 5,
      "outputs": [
        {
          "output_type": "stream",
          "name": "stdout",
          "text": [
            "Dataset shape: (5572, 5)\n"
          ]
        }
      ]
    },
    {
      "cell_type": "code",
      "source": [
        "print(\"Dataset columns:\", data.columns)"
      ],
      "metadata": {
        "colab": {
          "base_uri": "https://localhost:8080/"
        },
        "id": "jmj5oAFcrfa7",
        "outputId": "4e84b904-e5b7-4d47-8d69-490bff90971e"
      },
      "execution_count": 6,
      "outputs": [
        {
          "output_type": "stream",
          "name": "stdout",
          "text": [
            "Dataset columns: Index(['v1', 'v2', 'Unnamed: 2', 'Unnamed: 3', 'Unnamed: 4'], dtype='object')\n"
          ]
        }
      ]
    },
    {
      "cell_type": "code",
      "source": [
        "print(\"Dataset head:\", data.head())"
      ],
      "metadata": {
        "colab": {
          "base_uri": "https://localhost:8080/"
        },
        "id": "2ZQSxulori3b",
        "outputId": "34076f4b-6d47-454f-b0af-d832f03a352f"
      },
      "execution_count": 7,
      "outputs": [
        {
          "output_type": "stream",
          "name": "stdout",
          "text": [
            "Dataset head:      v1                                                 v2 Unnamed: 2  \\\n",
            "0   ham  Go until jurong point, crazy.. Available only ...        NaN   \n",
            "1   ham                      Ok lar... Joking wif u oni...        NaN   \n",
            "2  spam  Free entry in 2 a wkly comp to win FA Cup fina...        NaN   \n",
            "3   ham  U dun say so early hor... U c already then say...        NaN   \n",
            "4   ham  Nah I don't think he goes to usf, he lives aro...        NaN   \n",
            "\n",
            "  Unnamed: 3 Unnamed: 4  \n",
            "0        NaN        NaN  \n",
            "1        NaN        NaN  \n",
            "2        NaN        NaN  \n",
            "3        NaN        NaN  \n",
            "4        NaN        NaN  \n"
          ]
        }
      ]
    },
    {
      "cell_type": "markdown",
      "source": [
        "# Preprocessing"
      ],
      "metadata": {
        "id": "r59zwWt6x4U7"
      }
    },
    {
      "cell_type": "code",
      "source": [
        "data['v1'] = data['v1'].map({'spam': 1, 'ham': 0})"
      ],
      "metadata": {
        "id": "nsKtO17HroyX"
      },
      "execution_count": 8,
      "outputs": []
    },
    {
      "cell_type": "markdown",
      "source": [
        "## Split the data into training and testing sets"
      ],
      "metadata": {
        "id": "ku6Ba5_R1ysE"
      }
    },
    {
      "cell_type": "code",
      "source": [
        "X_train, X_test, y_train, y_test = train_test_split(data['v2'], data['v1'], test_size=0.2, random_state=42)"
      ],
      "metadata": {
        "id": "W9Ysl6M-x7WQ"
      },
      "execution_count": 9,
      "outputs": []
    },
    {
      "cell_type": "markdown",
      "source": [
        "## TF-IDF Vectorization"
      ],
      "metadata": {
        "id": "gZYu8r9y2IzK"
      }
    },
    {
      "cell_type": "code",
      "source": [
        "vectorizer = TfidfVectorizer(stop_words='english')\n",
        "X_train_tfidf = vectorizer.fit_transform(X_train)\n",
        "X_test_tfidf = vectorizer.transform(X_test)"
      ],
      "metadata": {
        "id": "uemejR8k15Sz"
      },
      "execution_count": 10,
      "outputs": []
    },
    {
      "cell_type": "markdown",
      "source": [
        "# Classifier models"
      ],
      "metadata": {
        "id": "9yq7M-E02P9N"
      }
    },
    {
      "cell_type": "code",
      "source": [
        "nb_classifier = MultinomialNB()\n",
        "nb_classifier.fit(X_train_tfidf, y_train)\n",
        "y_pred_nb = nb_classifier.predict(X_test_tfidf)\n",
        "print(\"Naive Bayes Accuracy:\", accuracy_score(y_test, y_pred_nb))\n",
        "print(\"Naive Bayes Classification Report:\")\n",
        "print(classification_report(y_test, y_pred_nb))\n",
        "print(\"Naive Bayes Confusion Matrix:\")\n",
        "print(confusion_matrix(y_test, y_pred_nb))"
      ],
      "metadata": {
        "colab": {
          "base_uri": "https://localhost:8080/"
        },
        "id": "B_haAnKR2JyK",
        "outputId": "41a4d71e-c1e8-420f-b707-d8e2bae18c8e"
      },
      "execution_count": 11,
      "outputs": [
        {
          "output_type": "stream",
          "name": "stdout",
          "text": [
            "Naive Bayes Accuracy: 0.9668161434977578\n",
            "Naive Bayes Classification Report:\n",
            "              precision    recall  f1-score   support\n",
            "\n",
            "           0       0.96      1.00      0.98       965\n",
            "           1       1.00      0.75      0.86       150\n",
            "\n",
            "    accuracy                           0.97      1115\n",
            "   macro avg       0.98      0.88      0.92      1115\n",
            "weighted avg       0.97      0.97      0.96      1115\n",
            "\n",
            "Naive Bayes Confusion Matrix:\n",
            "[[965   0]\n",
            " [ 37 113]]\n"
          ]
        }
      ]
    },
    {
      "cell_type": "code",
      "source": [
        "lr_classifier = LogisticRegression()\n",
        "lr_classifier.fit(X_train_tfidf, y_train)\n",
        "y_pred_lr = lr_classifier.predict(X_test_tfidf)\n",
        "print(\"Logistic Regression Accuracy:\", accuracy_score(y_test, y_pred_lr))\n",
        "print(\"Logistic Regression Classification Report:\")\n",
        "print(classification_report(y_test, y_pred_lr))\n",
        "print(\"Logistic Regression Confusion Matrix:\")\n",
        "print(confusion_matrix(y_test, y_pred_lr))"
      ],
      "metadata": {
        "colab": {
          "base_uri": "https://localhost:8080/"
        },
        "id": "_8dPi0O22VrE",
        "outputId": "51dda431-018a-4a07-8867-f5d648323904"
      },
      "execution_count": 12,
      "outputs": [
        {
          "output_type": "stream",
          "name": "stdout",
          "text": [
            "Logistic Regression Accuracy: 0.9524663677130045\n",
            "Logistic Regression Classification Report:\n",
            "              precision    recall  f1-score   support\n",
            "\n",
            "           0       0.95      1.00      0.97       965\n",
            "           1       0.97      0.67      0.79       150\n",
            "\n",
            "    accuracy                           0.95      1115\n",
            "   macro avg       0.96      0.83      0.88      1115\n",
            "weighted avg       0.95      0.95      0.95      1115\n",
            "\n",
            "Logistic Regression Confusion Matrix:\n",
            "[[962   3]\n",
            " [ 50 100]]\n"
          ]
        }
      ]
    },
    {
      "cell_type": "code",
      "source": [
        "svm_classifier = SVC()\n",
        "svm_classifier.fit(X_train_tfidf, y_train)\n",
        "y_pred_svm = svm_classifier.predict(X_test_tfidf)\n",
        "print(\"Support Vector Machine Accuracy:\", accuracy_score(y_test, y_pred_svm))\n",
        "print(\"Support Vector Machine Classification Report:\")\n",
        "print(classification_report(y_test, y_pred_svm))\n",
        "print(\"Support Vector Machine Confusion Matrix:\")\n",
        "print(confusion_matrix(y_test, y_pred_svm))"
      ],
      "metadata": {
        "colab": {
          "base_uri": "https://localhost:8080/"
        },
        "id": "4sbWsfPX2ZpP",
        "outputId": "775bc49c-e549-4e9c-db87-279d282234b7"
      },
      "execution_count": 13,
      "outputs": [
        {
          "output_type": "stream",
          "name": "stdout",
          "text": [
            "Support Vector Machine Accuracy: 0.9766816143497757\n",
            "Support Vector Machine Classification Report:\n",
            "              precision    recall  f1-score   support\n",
            "\n",
            "           0       0.97      1.00      0.99       965\n",
            "           1       0.99      0.83      0.91       150\n",
            "\n",
            "    accuracy                           0.98      1115\n",
            "   macro avg       0.98      0.92      0.95      1115\n",
            "weighted avg       0.98      0.98      0.98      1115\n",
            "\n",
            "Support Vector Machine Confusion Matrix:\n",
            "[[964   1]\n",
            " [ 25 125]]\n"
          ]
        }
      ]
    },
    {
      "cell_type": "markdown",
      "source": [
        "# BERT Model"
      ],
      "metadata": {
        "id": "_7V2l2VY2onv"
      }
    },
    {
      "cell_type": "code",
      "source": [
        "tokenizer = BertTokenizer.from_pretrained('bert-base-uncased')\n",
        "model = BertModel.from_pretrained('bert-base-uncased')"
      ],
      "metadata": {
        "colab": {
          "base_uri": "https://localhost:8080/"
        },
        "id": "L03bjT0T2kFf",
        "outputId": "23d80efe-1662-45e9-b2c1-48b224babfeb"
      },
      "execution_count": 14,
      "outputs": [
        {
          "output_type": "stream",
          "name": "stderr",
          "text": [
            "/usr/local/lib/python3.10/dist-packages/huggingface_hub/utils/_token.py:89: UserWarning: \n",
            "The secret `HF_TOKEN` does not exist in your Colab secrets.\n",
            "To authenticate with the Hugging Face Hub, create a token in your settings tab (https://huggingface.co/settings/tokens), set it as secret in your Google Colab and restart your session.\n",
            "You will be able to reuse this secret in all of your notebooks.\n",
            "Please note that authentication is recommended but still optional to access public models or datasets.\n",
            "  warnings.warn(\n"
          ]
        }
      ]
    },
    {
      "cell_type": "code",
      "source": [
        "def tokenize_text(text):\n",
        "  inputs = tokenizer.encode_plus(\n",
        "      text,\n",
        "      add_special_tokens=True,\n",
        "      max_length=512,\n",
        "      return_attention_mask=True,\n",
        "      return_tensors='pt',\n",
        "      truncation=True\n",
        "  )\n",
        "  return inputs"
      ],
      "metadata": {
        "id": "EeYS_3tB2vR-"
      },
      "execution_count": 15,
      "outputs": []
    },
    {
      "cell_type": "code",
      "source": [
        "X_train_bert = [tokenize_text(text) for text in X_train]\n",
        "X_test_bert = [tokenize_text(text) for text in X_test]"
      ],
      "metadata": {
        "id": "bi7R-nHJ2yJR"
      },
      "execution_count": 16,
      "outputs": []
    },
    {
      "cell_type": "code",
      "source": [
        "train_features = []\n",
        "test_features = []"
      ],
      "metadata": {
        "id": "sVzyeQq247x4"
      },
      "execution_count": 17,
      "outputs": []
    },
    {
      "cell_type": "code",
      "source": [
        "for inputs in X_train_bert:\n",
        "  outputs = model(**inputs)\n",
        "  pooled_output = outputs.pooler_output\n",
        "  train_features.append(pooled_output.detach().numpy())"
      ],
      "metadata": {
        "id": "1G-E2_mD489I"
      },
      "execution_count": 18,
      "outputs": []
    },
    {
      "cell_type": "code",
      "source": [
        "for inputs in X_test_bert:\n",
        "  outputs = model(**inputs)\n",
        "  pooled_output = outputs.pooler_output\n",
        "  test_features.append(pooled_output.detach().numpy())"
      ],
      "metadata": {
        "id": "-qZKomx95CVh"
      },
      "execution_count": 19,
      "outputs": []
    },
    {
      "cell_type": "code",
      "source": [
        "train_features = np.array(train_features)\n",
        "test_features = np.array(test_features)"
      ],
      "metadata": {
        "id": "oii0c6Z06qUc"
      },
      "execution_count": 20,
      "outputs": []
    },
    {
      "cell_type": "code",
      "source": [
        "bert_classifier = torch.nn.Linear(model.config.hidden_size, 2)\n",
        "criterion = torch.nn.CrossEntropyLoss()\n",
        "optimizer = torch.optim.Adam(bert_classifier.parameters(), lr=0.001)"
      ],
      "metadata": {
        "id": "qiKVUlq721AU"
      },
      "execution_count": 21,
      "outputs": []
    },
    {
      "cell_type": "code",
      "source": [
        "for epoch in range(5):\n",
        "  optimizer.zero_grad()\n",
        "  outputs = model(**X_train_bert[0])\n",
        "  pooled_output = outputs.pooler_output\n",
        "  outputs = bert_classifier(pooled_output)\n",
        "  loss = criterion(outputs, torch.tensor([y_train[0]]))\n",
        "  loss.backward()\n",
        "  optimizer.step()\n",
        "  print(f'Epoch {epoch+1}, Loss: {loss.item()}')"
      ],
      "metadata": {
        "colab": {
          "base_uri": "https://localhost:8080/"
        },
        "id": "uFHC_Gcf3xPm",
        "outputId": "a414f408-cbd5-48a7-8348-9f4ff1d6ca92"
      },
      "execution_count": 22,
      "outputs": [
        {
          "output_type": "stream",
          "name": "stdout",
          "text": [
            "Epoch 1, Loss: 0.700262188911438\n",
            "Epoch 2, Loss: 0.3846808075904846\n",
            "Epoch 3, Loss: 0.20132999122142792\n",
            "Epoch 4, Loss: 0.10565727949142456\n",
            "Epoch 5, Loss: 0.05752790719270706\n"
          ]
        }
      ]
    },
    {
      "cell_type": "code",
      "source": [
        "y_pred_bert = []\n",
        "with torch.no_grad():\n",
        "  for text in X_test_bert:\n",
        "    outputs = model(**text)\n",
        "    pooled_output = outputs.pooler_output\n",
        "    outputs = bert_classifier(pooled_output)\n",
        "    _, predicted = torch.max(outputs, 1)\n",
        "    y_pred_bert.extend(predicted.cpu().numpy())"
      ],
      "metadata": {
        "id": "rzE3qgvd32Bg"
      },
      "execution_count": 23,
      "outputs": []
    },
    {
      "cell_type": "code",
      "source": [
        "print(\"BERT Accuracy:\", accuracy_score(y_test, y_pred_bert))\n",
        "print(\"BERT Classification Report:\")\n",
        "print(classification_report(y_test, y_pred_bert))\n",
        "print(\"BERT Confusion Matrix:\")\n",
        "print(confusion_matrix(y_test, y_pred_bert))"
      ],
      "metadata": {
        "colab": {
          "base_uri": "https://localhost:8080/"
        },
        "id": "UMTrhApt4QLj",
        "outputId": "72b4a0ee-5a87-4c5a-996a-04e59a6d6a32"
      },
      "execution_count": 24,
      "outputs": [
        {
          "output_type": "stream",
          "name": "stdout",
          "text": [
            "BERT Accuracy: 0.8645739910313901\n",
            "BERT Classification Report:\n",
            "              precision    recall  f1-score   support\n",
            "\n",
            "           0       0.87      1.00      0.93       965\n",
            "           1       0.00      0.00      0.00       150\n",
            "\n",
            "    accuracy                           0.86      1115\n",
            "   macro avg       0.43      0.50      0.46      1115\n",
            "weighted avg       0.75      0.86      0.80      1115\n",
            "\n",
            "BERT Confusion Matrix:\n",
            "[[964   1]\n",
            " [150   0]]\n"
          ]
        }
      ]
    },
    {
      "cell_type": "code",
      "source": [
        "plt.figure(figsize=(10, 6))\n",
        "plt.bar(['Naive Bayes', 'Logistic Regression', 'Support Vector Machine', 'BERT'],\n",
        "        [accuracy_score(y_test, y_pred_nb), accuracy_score(y_test, y_pred_lr), accuracy_score(y_test, y_pred_svm), accuracy_score(y_test, y_pred_bert)])\n",
        "plt.xlabel('Model')\n",
        "plt.ylabel('Accuracy')\n",
        "plt.title('Model Comparison')\n",
        "plt.show()\n"
      ],
      "metadata": {
        "colab": {
          "base_uri": "https://localhost:8080/",
          "height": 564
        },
        "id": "an0UNBGh_BFi",
        "outputId": "d194f039-1425-476f-a0d3-8c29881d55b8"
      },
      "execution_count": 25,
      "outputs": [
        {
          "output_type": "display_data",
          "data": {
            "text/plain": [
              "<Figure size 1000x600 with 1 Axes>"
            ],
            "image/png": "[encoded data removed]"
          },
          "metadata": {}
        }
      ]
    },
    {
      "cell_type": "code",
      "source": [
        "def is_message_spam(message, model, vectorizer):\n",
        "    vectorized_message = vectorizer.transform([message])\n",
        "    if model.predict(vectorized_message) == 1:\n",
        "        print(\"Spam!!!\")\n",
        "    else:\n",
        "        print(\"Not spam.\")"
      ],
      "metadata": {
        "id": "7Z2RF9RH_TU_"
      },
      "execution_count": 27,
      "outputs": []
    },
    {
      "cell_type": "code",
      "source": [
        "is_message_spam(\"Congratulations! You've won a luxury vacation for two. Click the link to claim\", nb_classifier, vectorizer)"
      ],
      "metadata": {
        "colab": {
          "base_uri": "https://localhost:8080/"
        },
        "id": "JDM3vTpd_b8P",
        "outputId": "011fbeb4-7d2b-4cd7-c67f-cb2c0c2c2d5c"
      },
      "execution_count": 28,
      "outputs": [
        {
          "output_type": "stream",
          "name": "stdout",
          "text": [
            "Spam!!!\n"
          ]
        }
      ]
    },
    {
      "cell_type": "code",
      "source": [
        "is_message_spam(\"Hello, Ata how are you.\", nb_classifier, vectorizer)"
      ],
      "metadata": {
        "colab": {
          "base_uri": "https://localhost:8080/"
        },
        "id": "UatdwXjALer3",
        "outputId": "a3f54c66-990b-4000-cf48-02d4dcce0744"
      },
      "execution_count": 29,
      "outputs": [
        {
          "output_type": "stream",
          "name": "stdout",
          "text": [
            "Not spam.\n"
          ]
        }
      ]
    },
    {
      "cell_type": "code",
      "source": [
        "is_message_spam(\"URGENT: Your bank account is locked. Reply with your login details to unlock.\", nb_classifier, vectorizer)"
      ],
      "metadata": {
        "colab": {
          "base_uri": "https://localhost:8080/"
        },
        "id": "ayse8IQcLjVq",
        "outputId": "67058969-0d10-490a-adc9-bb6f7ba32b9e"
      },
      "execution_count": 30,
      "outputs": [
        {
          "output_type": "stream",
          "name": "stdout",
          "text": [
            "Not spam.\n"
          ]
        }
      ]
    }
  ]
}